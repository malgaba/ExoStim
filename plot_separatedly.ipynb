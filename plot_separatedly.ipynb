{
 "cells": [
  {
   "cell_type": "code",
   "execution_count": null,
   "outputs": [],
   "source": [
    "import pathlib as path\n",
    "import yaml\n",
    "import matplotlib.pyplot as plt\n",
    "import pandas as pd\n",
    "import sys\n",
    "import numpy as np\n",
    "from scipy.signal import welch"
   ],
   "metadata": {
    "collapsed": false
   },
   "id": "56e8527c3d36fa29"
  },
  {
   "cell_type": "code",
   "execution_count": null,
   "outputs": [],
   "source": [
    "sys.path.append('../common_eurobench')\n",
    "from conversion import convert_utils as conv"
   ],
   "metadata": {
    "collapsed": false
   },
   "id": "459c16dad89e9bf0"
  },
  {
   "cell_type": "code",
   "execution_count": null,
   "outputs": [],
   "source": [
    "path_data = '/Users/neuralrehabilitationgroup/PycharmProjects/ExoStim'\n",
    "path_cleaned_data = '/Users/neuralrehabilitationgroup/PycharmProjects/ExoStim/NEW_SIGNALS'"
   ],
   "metadata": {
    "collapsed": false
   },
   "id": "be1ef2a4424939dc"
  },
  {
   "cell_type": "code",
   "execution_count": null,
   "outputs": [],
   "source": [
    "subjects = [1]\n",
    "sf = 2048"
   ],
   "metadata": {
    "collapsed": false
   },
   "id": "f952b53b51f6a618"
  },
  {
   "cell_type": "code",
   "execution_count": null,
   "outputs": [],
   "source": [
    "path_gait = path.Path(path_data).joinpath('gait_with_exo', 'PROCESSED', 'FILTERED')\n",
    "path_events = path.Path(path_data).joinpath('gait_with_exo', 'EUROBENCH')\n",
    "path_gait_env = path.Path(path_data).joinpath('gait_with_exo', 'PROCESSED', 'ENVELOPE')"
   ],
   "metadata": {
    "collapsed": false
   },
   "id": "8077e9de5a54ba4b"
  },
  {
   "cell_type": "code",
   "execution_count": null,
   "id": "6f697e43c43c17db",
   "metadata": {
    "collapsed": true
   },
   "outputs": [],
   "source": [
    "for subject in subjects:\n",
    "    print('SUBJECT 0' + str(subject))\n",
    "    list_events_gait = list(path_events.glob('*subject_0' + str(subject) + '*.yaml'))\n",
    "    with open(list_events_gait[0], 'r') as archivo:\n",
    "        events_data = yaml.safe_load(archivo)\n",
    "        \n",
    "    list_emg_gait = list(path_gait.glob('*subject_0' + str(subject) + '*.csv'))\n",
    "    emg_gait = pd.read_csv(list_emg_gait[0])\n",
    "    \n",
    "    time = emg_gait['time']\n",
    "    \n",
    "    for i, muscle_name in enumerate(emg_gait.columns):\n",
    "        if i != 0:\n",
    "            # PLOT GAIT OFF 1\n",
    "            fig, ax = plt.subplots()\n",
    "\n",
    "            muscle = emg_gait.loc[:,muscle_name]\n",
    "            #print(muscle)\n",
    "            \n",
    "            ax.plot(time[int(events_data['gait_without_estimulation'][0]*sf):int(events_data['gait_without_estimulation'][1]*sf)], muscle[int(events_data['gait_without_estimulation'][0]*sf):(int(events_data['gait_without_estimulation'][1]*sf))])\n",
    "            \n",
    "            ax.set_xlabel('time')\n",
    "            ax.set_ylabel(muscle_name)\n",
    "            ax.set_title('SUBJECT 0' + str(subject) +'. Gait OFF1')\n",
    "            \n",
    "            fig_off, ax_off = plt.subplots()\n",
    "            \n",
    "            ax_off.plot(time[int(events_data['gait_without_estimulation'][0]*sf):int(events_data['gait_without_estimulation'][1]*sf)], muscle[int(events_data['gait_without_estimulation'][0]*sf):(int(events_data['gait_without_estimulation'][1]*sf))])\n",
    "            \n",
    "            ax_off.set_xlabel('time')\n",
    "            ax_off.set_ylabel(muscle_name)\n",
    "            ax_off.set_title('SUBJECT 0' + str(subject) +'. Gait OFF')\n",
    "            \n",
    "            # PLOT GAIT ON\n",
    "            fig_on, ax_on = plt.subplots()\n",
    "            \n",
    "            ax_on.plot(time[int(events_data['gait_with_estimulation'][0]*sf):int(events_data['gait_with_estimulation'][1]*sf)], muscle[int(events_data['gait_with_estimulation'][0]*sf):(int(events_data['gait_with_estimulation'][1]*sf))], color='orange')\n",
    "            \n",
    "            ax_on.set_xlabel('time')\n",
    "            ax_on.set_ylabel(muscle_name)\n",
    "            ax_on.set_title('SUBJECT 0' + str(subject) +'. Gait ON')\n",
    "            \n",
    "            # PLOT GAIT OFF 2\n",
    "            fig_2, ax_2 = plt.subplots()\n",
    "\n",
    "            muscle = emg_gait.loc[:,muscle_name]\n",
    "            \n",
    "            ax_off.plot(time[int(events_data['gait_without_estimulation'][2]*sf):int(events_data['gait_without_estimulation'][3]*sf)], muscle[int(events_data['gait_without_estimulation'][2]*sf):(int(events_data['gait_without_estimulation'][3]*sf))])\n",
    "            \n",
    "            ax_off.set_xlabel('time')\n",
    "            ax_off.set_ylabel(muscle_name)\n",
    "            ax_off.set_title('SUBJECT 0' + str(subject) +'. Gait OFF')\n",
    "            \n",
    "            \n",
    "            ax_2.plot(time[int(events_data['gait_without_estimulation'][2]*sf):int(events_data['gait_without_estimulation'][3]*sf)], muscle[int(events_data['gait_without_estimulation'][2]*sf):(int(events_data['gait_without_estimulation'][3]*sf))], color = 'green')\n",
    "            \n",
    "            ax_2.set_xlabel('time')\n",
    "            ax_2.set_ylabel(muscle_name)\n",
    "            ax_2.set_title('SUBJECT 0' + str(subject) +'. Gait OFF2')\n",
    "            \n",
    "    \n",
    "    "
   ]
  },
  {
   "cell_type": "code",
   "execution_count": null,
   "outputs": [],
   "source": [
    "for subject in subjects:\n",
    "    print('SUBJECT 0' + str(subject))\n",
    "    list_events_gait = list(path_events.glob('*subject_0' + str(subject) + '*.yaml'))\n",
    "    with open(list_events_gait[0], 'r') as archivo:\n",
    "        events_data = yaml.safe_load(archivo)\n",
    "        \n",
    "    list_emg_gait = list(path_gait_env.glob('*subject_0' + str(subject) + '*.csv'))\n",
    "    emg_gait = pd.read_csv(list_emg_gait[0])\n",
    "    \n",
    "    time = emg_gait['time']\n",
    "    \n",
    "    for i, muscle_name in enumerate(emg_gait.columns):\n",
    "        if i != 0:\n",
    "            # PLOT GAIT OFF 1\n",
    "            fig, ax = plt.subplots()\n",
    "\n",
    "            muscle = emg_gait.loc[:,muscle_name]\n",
    "            #print(muscle)\n",
    "            \n",
    "            ax.plot(time[int(events_data['gait_without_estimulation'][0]*sf):int(events_data['gait_without_estimulation'][1]*sf)], muscle[int(events_data['gait_without_estimulation'][0]*sf):(int(events_data['gait_without_estimulation'][1]*sf))])\n",
    "            \n",
    "            ax.set_xlabel('time')\n",
    "            ax.set_ylabel(muscle_name)\n",
    "            ax.set_title('SUBJECT 0' + str(subject) +'. Gait OFF1')\n",
    "            \n",
    "            fig_off, ax_off = plt.subplots()\n",
    "            \n",
    "            ax_off.plot(time[int(events_data['gait_without_estimulation'][0]*sf):int(events_data['gait_without_estimulation'][1]*sf)], muscle[int(events_data['gait_without_estimulation'][0]*sf):(int(events_data['gait_without_estimulation'][1]*sf))])\n",
    "            \n",
    "            ax_off.set_xlabel('time')\n",
    "            ax_off.set_ylabel(muscle_name)\n",
    "            ax_off.set_title('SUBJECT 0' + str(subject) +'. Gait OFF')\n",
    "            \n",
    "            # PLOT GAIT ON\n",
    "            fig_on, ax_on = plt.subplots()\n",
    "            \n",
    "            ax_on.plot(time[int(events_data['gait_with_estimulation'][0]*sf):int(events_data['gait_with_estimulation'][1]*sf)], muscle[int(events_data['gait_with_estimulation'][0]*sf):(int(events_data['gait_with_estimulation'][1]*sf))], color='orange')\n",
    "            \n",
    "            ax_on.set_xlabel('time')\n",
    "            ax_on.set_ylabel(muscle_name)\n",
    "            ax_on.set_title('SUBJECT 0' + str(subject) +'. Gait ON')\n",
    "            \n",
    "            # PLOT GAIT OFF 2\n",
    "            fig_2, ax_2 = plt.subplots()\n",
    "\n",
    "            muscle = emg_gait.loc[:,muscle_name]\n",
    "            \n",
    "            ax_off.plot(time[int(events_data['gait_without_estimulation'][2]*sf):int(events_data['gait_without_estimulation'][3]*sf)], muscle[int(events_data['gait_without_estimulation'][2]*sf):(int(events_data['gait_without_estimulation'][3]*sf))])\n",
    "            \n",
    "            ax_off.set_xlabel('time')\n",
    "            ax_off.set_ylabel(muscle_name)\n",
    "            ax_off.set_title('SUBJECT 0' + str(subject) +'. Gait OFF')\n",
    "            \n",
    "            \n",
    "            ax_2.plot(time[int((events_data['gait_without_estimulation'][2]+1)*sf):int((events_data['gait_without_estimulation'][3]+1)*sf)], muscle[int((events_data['gait_without_estimulation'][2]+1)*sf):(int((events_data['gait_without_estimulation'][3]+1)*sf))], color = 'green')\n",
    "            \n",
    "            ax_2.set_xlabel('time')\n",
    "            ax_2.set_ylabel(muscle_name)\n",
    "            ax_2.set_title('SUBJECT 0' + str(subject) +'. Gait OFF2')\n",
    "            \n",
    "            \n",
    "            "
   ],
   "metadata": {
    "collapsed": false
   },
   "id": "384f7ab289920a6b"
  },
  {
   "cell_type": "code",
   "execution_count": null,
   "outputs": [],
   "source": [
    "for subject in subjects:\n",
    "    print('SUBJECT 0' + str(subject))\n",
    "    list_events_gait = list(path_events.glob('*subject_0' + str(subject) + '*.yaml'))\n",
    "    with open(list_events_gait[0], 'r') as archivo:\n",
    "        events_data = yaml.safe_load(archivo)\n",
    "        \n",
    "    list_emg_gait = list(path_gait.glob('*subject_0' + str(subject) + '*.csv'))\n",
    "    emg_gait = pd.read_csv(list_emg_gait[0])\n",
    "    \n",
    "    columns_emg = conv.find_unique_cols_csv(list_emg_gait)\n",
    "    \n",
    "    dfs = conv.convert_dir_eurobench_to_defaultdict(list_emg_gait, columns=columns_emg, path_events=path_events, split_using_events=True, split_events_category=['gait_without_estimulation_pre','gait_with_estimulation','gait_without_estimulation_post'])\n",
    "    \n",
    "    for i, muscle_name in enumerate(emg_gait.columns):\n",
    "        if muscle_name != 'time':\n",
    "            fig, ax = plt.subplots()\n",
    "        \n",
    "            muscle = emg_gait.loc[:,muscle_name]\n",
    "            #print(muscle)\n",
    "            \n",
    "            for c in range(0,len(dfs)):\n",
    "                for s in range(0,len(dfs[c][muscle_name]['col'][0])):\n",
    "                    ax.plot(dfs[c]['time']['col'][0][s], dfs[c][muscle_name]['col'][0][s], label = str(dfs[c][muscle_name]['split_by'][0]))\n",
    "                    \n",
    "                    \n",
    "                    ax.set_xlabel('time')\n",
    "                    ax.set_ylabel(muscle_name)\n",
    "                    ax.set_title('SUBJECT 0' + str(subject))\n",
    "                    ax.legend()\n",
    "                             \n",
    "                             \n",
    "#+ str(dfs[c][muscle_name]['split_vals'][0]))"
   ],
   "metadata": {
    "collapsed": false
   },
   "id": "915813d3ebc7cf4c"
  },
  {
   "cell_type": "markdown",
   "source": [
    "# Compute PSD for each part of the trial"
   ],
   "metadata": {
    "collapsed": false
   },
   "id": "ae54c1f2efdf339c"
  },
  {
   "cell_type": "code",
   "execution_count": null,
   "outputs": [],
   "source": [
    "def compute_psd_welch(data, sf, muscle, b_plot=False, b_save=False):\n",
    "\n",
    "    S1, f1 = welch(data, fs=sf, nperseg = 256, window=np.hanning(256), noverlap=128)\n",
    "    return S1, f1"
   ],
   "metadata": {
    "collapsed": false
   },
   "id": "a9d8409bde8402df"
  },
  {
   "cell_type": "code",
   "execution_count": null,
   "outputs": [],
   "source": [
    "for subject in subjects:\n",
    "    print('SUBJECT 0' + str(subject))\n",
    "    list_events_gait = list(path_events.glob('*subject_0' + str(subject) + '*.yaml'))\n",
    "    with open(list_events_gait[0], 'r') as archivo:\n",
    "        events_data = yaml.safe_load(archivo)\n",
    "        \n",
    "    list_emg_gait = list(path_gait.glob('*subject_0' + str(subject) + '*.csv'))\n",
    "    emg_gait = pd.read_csv(list_emg_gait[0])\n",
    "    \n",
    "    columns_emg = conv.find_unique_cols_csv(list_emg_gait)\n",
    "    \n",
    "    dfs = conv.convert_dir_eurobench_to_defaultdict(list_emg_gait, columns=columns_emg, path_events=path_events, split_using_events=True, split_events_category=['gait_without_estimulation_pre','gait_with_estimulation','gait_without_estimulation_post'])\n",
    "    \n",
    "    for i, muscle_name in enumerate(emg_gait.columns):\n",
    "        if muscle_name != 'time':\n",
    "            fig, ax = plt.subplots()\n",
    "            for c in range(0,len(dfs)):  \n",
    "                for s in range(0,len(dfs[c][muscle_name]['col'][0])):\n",
    "                    f1, S1 = compute_psd_welch(dfs[c][muscle_name]['col'][0][s], sf, muscle_name, b_plot=False, b_save=False)\n",
    "                    # S1, f1 = plt.psd(dfs[c][muscle_name]['col'][0][s], NFFT=256, Fs=sf, window=np.hanning(256), noverlap=128, label=str(dfs[c][muscle_name]['split_by'][0]))\n",
    "                    # plt.close()\n",
    "                    ax.plot(f1, S1, label=str(dfs[c][muscle_name]['split_by'][0]))\n",
    "                    ax.set(title= 'SUBJECT 0' + str(subject) + '. ' + muscle_name, xlabel = 'frequency [Hz]', ylabel = 'PSD (dB)')\n",
    "                    ax.legend()\n",
    "                    ax.set_xlim(0,500)\n",
    "                    \n"
   ],
   "metadata": {
    "collapsed": false
   },
   "id": "f9456889d857c20d"
  },
  {
   "cell_type": "code",
   "execution_count": null,
   "outputs": [],
   "source": [
    "for subject in subjects:\n",
    "    print('SUBJECT 0' + str(subject))\n",
    "    list_events_gait = list(path_events.glob('*subject_0' + str(subject) + '*.yaml'))\n",
    "    with open(list_events_gait[0], 'r') as archivo:\n",
    "        events_data = yaml.safe_load(archivo)\n",
    "        \n",
    "    list_emg_gait = list(path_gait.glob('*subject_0' + str(subject) + '*.csv'))\n",
    "    emg_gait = pd.read_csv(list_emg_gait[0])\n",
    "    \n",
    "    columns_emg = conv.find_unique_cols_csv(list_emg_gait)\n",
    "    \n",
    "    dfs = conv.convert_dir_eurobench_to_defaultdict(list_emg_gait, columns=columns_emg, path_events=path_events, split_using_events=True, split_events_category=['gait_without_estimulation_pre','gait_with_estimulation','gait_without_estimulation_post'])\n",
    "    \n",
    "    for i, muscle_name in enumerate(emg_gait.columns):\n",
    "        if muscle_name != 'time':\n",
    "            fig, ax = plt.subplots()\n",
    "            for c in range(0,len(dfs)):  \n",
    "                for s in range(0,len(dfs[c][muscle_name]['col'][0])):\n",
    "                    # Aplicar un filtro de media móvil para suavizar la señal\n",
    "                    window_size = 0.1  # Tamaño de la ventana móvil en segundos\n",
    "                    window_length = int(window_size * sf)\n",
    "                    filtered_emg = np.convolve(dfs[c][muscle_name]['col'][0][s], np.ones(window_length)/window_length, mode='same')\n",
    "                    \n",
    "                    # Graficar la señal original y la señal filtrada\n",
    "                    plt.figure(figsize=(10, 5))\n",
    "                    plt.plot(dfs[c][muscle_name]['col'][0][s], label='Señal EMG original con artefactos')\n",
    "                    plt.plot(filtered_emg, label='Señal EMG filtrada')\n",
    "                    plt.xlabel('Tiempo (s)')\n",
    "                    plt.ylabel('Amplitud')\n",
    "                    plt.title('Eliminación de artefactos de una señal EMG')\n",
    "                    plt.legend()\n",
    "                    plt.title('SUBJECT 0' + str(subject) + '. ' + muscle_name)\n",
    "                    plt.grid(True)\n",
    "                    plt.show()"
   ],
   "metadata": {
    "collapsed": false
   },
   "id": "71aa89a2b5890c72"
  },
  {
   "cell_type": "code",
   "execution_count": null,
   "outputs": [],
   "source": [],
   "metadata": {
    "collapsed": false
   },
   "id": "fe9c166499ef6e0e"
  }
 ],
 "metadata": {
  "kernelspec": {
   "display_name": "Python 3",
   "language": "python",
   "name": "python3"
  },
  "language_info": {
   "codemirror_mode": {
    "name": "ipython",
    "version": 2
   },
   "file_extension": ".py",
   "mimetype": "text/x-python",
   "name": "python",
   "nbconvert_exporter": "python",
   "pygments_lexer": "ipython2",
   "version": "2.7.6"
  }
 },
 "nbformat": 4,
 "nbformat_minor": 5
}
