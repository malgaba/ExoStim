{
 "cells": [
  {
   "cell_type": "code",
   "execution_count": null,
   "outputs": [],
   "source": [
    "import pathlib as path\n",
    "import yaml\n",
    "import matplotlib.pyplot as plt\n",
    "import pandas as pd\n",
    "import sys\n",
    "import numpy as np\n",
    "from scipy.signal import welch"
   ],
   "metadata": {
    "collapsed": false
   },
   "id": "56e8527c3d36fa29"
  },
  {
   "cell_type": "code",
   "execution_count": null,
   "outputs": [],
   "source": [
    "sys.path.append('../common_eurobench')\n",
    "from conversion import convert_utils as conv"
   ],
   "metadata": {
    "collapsed": false
   },
   "id": "459c16dad89e9bf0"
  },
  {
   "cell_type": "code",
   "execution_count": null,
   "outputs": [],
   "source": [
    "subjects = [1, 2, 3, 4, 5]\n",
    "sf = 2048\n",
    "cond = 'without' #with or whithout (exo)\n",
    "folder = 'SUBJECT_0X/SESSION_01/IRREGULAR_TERRAIN/EMG'"
   ],
   "metadata": {
    "collapsed": false
   },
   "id": "f952b53b51f6a618"
  },
  {
   "cell_type": "code",
   "execution_count": null,
   "outputs": [],
   "source": [
    "# Change the path of your data\n",
    "path_data = '/Users/neuralrehabilitationgroup/PycharmProjects/DATA_ExoStim/DATA/gait_' + cond + '_exo'"
   ],
   "metadata": {
    "collapsed": false
   },
   "id": "6179da959746a0e"
  },
  {
   "cell_type": "code",
   "execution_count": null,
   "outputs": [],
   "source": [
    "path_raw = path.Path(path_data).joinpath('EUROBENCH',folder)\n",
    "path_gait_filt = path.Path(path_data).joinpath('PROCESSED',folder,'FILTERED')\n",
    "path_gait_clean = path.Path(path_data).joinpath('PROCESSED',folder,'CLEANED')\n",
    "path_events = path.Path(path_data).joinpath('EUROBENCH', folder)\n",
    "path_gait_env = path.Path(path_data).joinpath('PROCESSED',folder,'ENVELOPE')"
   ],
   "metadata": {
    "collapsed": false
   },
   "id": "8077e9de5a54ba4b"
  },
  {
   "cell_type": "markdown",
   "source": [
    "# Plot EMG signals (filtered or cleaned)"
   ],
   "metadata": {
    "collapsed": false
   },
   "id": "9f2688504e1de4bd"
  },
  {
   "cell_type": "code",
   "execution_count": null,
   "outputs": [],
   "source": [
    "# For filtered signals:\n",
    "# path_signal = path_gait_filt\n",
    "# For cleaned signals:\n",
    "path_signal = path_gait_filt"
   ],
   "metadata": {
    "collapsed": false
   },
   "id": "cc8411941c4891e6"
  },
  {
   "cell_type": "code",
   "execution_count": null,
   "outputs": [],
   "source": [
    "for subject in subjects:\n",
    "    print('SUBJECT 0' + str(subject))\n",
    "    list_events_gait = list(path_events.glob('*subject_0' + str(subject) + '*.yaml'))\n",
    "    with open(list_events_gait[0], 'r') as archivo:\n",
    "        events_data = yaml.safe_load(archivo)\n",
    "        \n",
    "    list_emg_gait = list(path_signal.glob('*subject_0' + str(subject) + '*.csv'))\n",
    "    emg_gait = pd.read_csv(list_emg_gait[0])\n",
    "    \n",
    "    columns_emg = conv.find_unique_cols_csv(list_emg_gait)\n",
    "    \n",
    "    dfs = conv.convert_dir_eurobench_to_defaultdict(list_emg_gait, columns=columns_emg, path_events=path_events, split_using_events=True, split_events_category=['gait_without_estimulation_pre','gait_with_estimulation','gait_without_estimulation_post'])\n",
    "    \n",
    "    for i, muscle_name in enumerate(emg_gait.columns):\n",
    "        if muscle_name != 'time':\n",
    "            fig, ax = plt.subplots()\n",
    "        \n",
    "            muscle = emg_gait.loc[:,muscle_name]\n",
    "            #print(muscle)\n",
    "            \n",
    "            for c in range(0,len(dfs)):\n",
    "                for s in range(0,len(dfs[c][muscle_name]['col'][0])):\n",
    "                    ax.plot(dfs[c]['time']['col'][0][s], dfs[c][muscle_name]['col'][0][s], label = str(dfs[c][muscle_name]['split_by'][0]))\n",
    "                    \n",
    "                    \n",
    "                    ax.set_xlabel('time')\n",
    "                    ax.set_ylabel(muscle_name)\n",
    "                    ax.set_title('SUBJECT 0' + str(subject))\n",
    "                    ax.legend()\n",
    "                             \n",
    "                            "
   ],
   "metadata": {
    "collapsed": false
   },
   "id": "915813d3ebc7cf4c"
  },
  {
   "cell_type": "markdown",
   "source": [
    "# Plot both filtered and cleaned"
   ],
   "metadata": {
    "collapsed": false
   },
   "id": "f3d0fbe112b43c32"
  },
  {
   "cell_type": "code",
   "execution_count": null,
   "outputs": [],
   "source": [
    "for subject in subjects:\n",
    "    print('SUBJECT 0' + str(subject))\n",
    "    list_events_gait = list(path_events.glob('*subject_0' + str(subject) + '*.yaml'))\n",
    "    with open(list_events_gait[0], 'r') as archivo:\n",
    "        events_data = yaml.safe_load(archivo)\n",
    "        \n",
    "    list_emg_filt = list(path_gait_filt.glob('*subject_0' + str(subject) + '*.csv'))\n",
    "    \n",
    "    columns_emg = conv.find_unique_cols_csv(list_emg_filt)\n",
    "    \n",
    "    dfs_filt = conv.convert_dir_eurobench_to_defaultdict(list_emg_filt, columns=columns_emg, path_events=path_events, split_using_events=False)\n",
    "    \n",
    "    list_emg_clean = list(path_gait_clean.glob('*subject_0' + str(subject) + '*.csv'))\n",
    "    \n",
    "    dfs_clean = conv.convert_dir_eurobench_to_defaultdict(list_emg_clean, columns=columns_emg, path_events=path_events, split_using_events=False)\n",
    "    \n",
    "    for i, muscle_name in enumerate(columns_emg):\n",
    "        if muscle_name != 'time':\n",
    "            fig, ax = plt.subplots() \n",
    "            # Plot the original (filtered) and the cleaned signal\n",
    "            ax.plot(dfs_filt[0][muscle_name]['col'][0], label='Filtered')\n",
    "            ax.plot(dfs_clean[0][muscle_name]['col'][0], label='Cleaned')\n",
    "            ax.set_xlabel('Tiempo (s)')\n",
    "            ax.set_ylabel('Amplitud')\n",
    "            ax.legend()\n",
    "            ax.set_title('SUBJECT 0' + str(subject) + '. ' + muscle_name)\n",
    "            ax.grid(True)"
   ],
   "metadata": {
    "collapsed": false
   },
   "id": "510e1d0dcf841ee"
  },
  {
   "cell_type": "markdown",
   "source": [
    "### Compute optimal window size"
   ],
   "metadata": {
    "collapsed": false
   },
   "id": "e041bd7c1226520"
  },
  {
   "cell_type": "code",
   "execution_count": null,
   "outputs": [],
   "source": [
    "import librosa\n",
    "from librosa import feature"
   ],
   "metadata": {
    "collapsed": false
   },
   "id": "8a7e260e6cf94bbc"
  },
  {
   "cell_type": "code",
   "execution_count": null,
   "outputs": [],
   "source": [
    "def compute_rms(spec_1, sf, b_plot, b_save, win_size, muscle):\n",
    "\n",
    "    rms_1 =librosa.feature.rms(S = spec_1, frame_length = sf)\n",
    "\n",
    "    if b_plot:\n",
    "        fig, ax = plt.subplots(1, 2, sharex=True, sharey=False, figsize=(10, 4), constrained_layout=True)\n",
    "        times_1 = librosa.times_like(rms_1)\n",
    "        ax[0].semilogy(times_1, rms_1[0], label='RMS Energy')\n",
    "        ax[0].set(xticks=[])\n",
    "        ax[0].legend()\n",
    "        ax[0].label_outer()\n",
    "        # librosa.display.specshow(librosa.amplitude_to_db(np.abs(spec_1), ref=np.max), y_axis='log', x_axis='time', ax=ax[1,0])\n",
    "        # ax[1,0].set(title='log Power spectrogram')\n",
    "\n",
    "        ax[0].set(xlabel = 'Time (s)', ylabel = 'Frequency (Hz)')\n",
    "\n",
    "        if b_save:\n",
    "            plt.figure()\n",
    "            # plt.show()\n",
    "    \n",
    "            fig.suptitle(subject + '. Vrms (ws = ' + str(win_size) + ')')\n",
    "            plt.savefig('/Users/neuralrehabilitationgroup/PycharmProjects/ictus-synergies/Spectrogram_analysis/RESULTS/' + subject + '/Vrms_' + str(win_size) + '_' + subject + '_' + muscle)\n",
    "            plt.close()\n",
    "\n",
    "    return rms_1"
   ],
   "metadata": {
    "collapsed": false
   },
   "id": "73a314c6c1096c5c"
  },
  {
   "cell_type": "code",
   "execution_count": null,
   "outputs": [],
   "source": [
    "for subject in subjects:\n",
    "    print('SUBJECT 0' + str(subject))\n",
    "    list_events_gait = list(path_events.glob('*subject_0' + str(subject) + '*.yaml'))\n",
    "    with open(list_events_gait[0], 'r') as archivo:\n",
    "        events_data = yaml.safe_load(archivo)\n",
    "        \n",
    "    list_emg_gait = list(path_signal.glob('*subject_0' + str(subject) + '*.csv'))\n",
    "    emg_gait = pd.read_csv(list_emg_gait[0])\n",
    "    \n",
    "    columns_emg = conv.find_unique_cols_csv(list_emg_gait)\n",
    "    \n",
    "    dfs = conv.convert_dir_eurobench_to_defaultdict(list_emg_gait, columns=columns_emg, path_events=path_events, split_using_events=True, split_events_category=['gait_without_estimulation_pre','gait_with_estimulation','gait_without_estimulation_post'])\n",
    "    \n",
    "    for i, muscle_name in enumerate(emg_gait.columns):\n",
    "        if muscle_name != 'time':\n",
    "            for c in range(0,len(dfs)): \n",
    "                fig, ax = plt.subplots()\n",
    "                for s in range(0,len(dfs[c][muscle_name]['col'][0])):\n",
    "                    rms1 = compute_rms(dfs[c][muscle_name]['col'][0][s], sf, muscle_name, b_plot=False, b_save=False)\n",
    "                    #S1, f1 = plt.psd(dfs[c][muscle_name]['col'][0][s], NFFT=256, Fs=sf, window=np.hanning(256), noverlap=128, label=str(dfs[c][muscle_name]['split_by'][0]))\n",
    "                    # plt.close()\n",
    "                    ax.plot(f1, S1, label=str(dfs[c][muscle_name]['split_by'][0]))\n",
    "                    ax.set(title= 'SUBJECT 0' + str(subject) + '. ' + muscle_name, xlabel = 'frequency [Hz]', ylabel = 'PSD (dB)')\n",
    "                    ax.legend()\n",
    "                    ax.set_xlim(0,500)\n",
    "                    "
   ],
   "metadata": {
    "collapsed": false
   },
   "id": "9619ce077ecb3ca"
  },
  {
   "cell_type": "markdown",
   "source": [
    "# Compute PSD for each part of the trial"
   ],
   "metadata": {
    "collapsed": false
   },
   "id": "ae54c1f2efdf339c"
  },
  {
   "cell_type": "code",
   "execution_count": null,
   "outputs": [],
   "source": [
    "from scipy.signal import find_peaks"
   ],
   "metadata": {
    "collapsed": false
   },
   "id": "f810da17468ffa95"
  },
  {
   "cell_type": "code",
   "execution_count": null,
   "outputs": [],
   "source": [
    "def compute_psd_welch(data, sf, wind_size, muscle, b_plot=False, b_save=False):\n",
    "    S1, f1 = welch(data, fs=sf, nperseg = wind_size, window=np.hanning(wind_size), noverlap=wind_size/2)\n",
    "    return S1, f1"
   ],
   "metadata": {
    "collapsed": false
   },
   "id": "a9d8409bde8402df"
  },
  {
   "cell_type": "code",
   "execution_count": null,
   "outputs": [],
   "source": [
    "for subject in subjects:\n",
    "    print('SUBJECT 0' + str(subject))\n",
    "    list_events_gait = list(path_events.glob('*subject_0' + str(subject) + '*.yaml'))\n",
    "    with open(list_events_gait[0], 'r') as archivo:\n",
    "        events_data = yaml.safe_load(archivo)\n",
    "        \n",
    "    list_emg_gait = list(path_signal.glob('*subject_0' + str(subject) + '*.csv'))\n",
    "    emg_gait = pd.read_csv(list_emg_gait[0])\n",
    "    \n",
    "    columns_emg = conv.find_unique_cols_csv(list_emg_gait)\n",
    "    \n",
    "    dfs = conv.convert_dir_eurobench_to_defaultdict(list_emg_gait, columns=columns_emg, path_events=path_events, split_using_events=True, split_events_category=['gait_without_estimulation_pre','gait_with_estimulation','gait_without_estimulation_post'])\n",
    "    \n",
    "    for i, muscle_name in enumerate(emg_gait.columns):\n",
    "        if muscle_name != 'time':\n",
    "            for c in range(0,len(dfs)): \n",
    "                fig, ax = plt.subplots()\n",
    "                for s in range(0,len(dfs[c][muscle_name]['col'][0])):\n",
    "                    # wind_size = [32, 64, 128, 256, 512, 1024, 2048]\n",
    "                    \n",
    "                    #for wind in wind_size:\n",
    "                    f1, S1 = compute_psd_welch(dfs[c][muscle_name]['col'][0][s], sf, 256, muscle_name, b_plot=False, b_save=False)\n",
    "                    #S1, f1 = plt.psd(dfs[c][muscle_name]['col'][0][s], NFFT=256, Fs=sf, window=np.hanning(256), noverlap=128, label=str(dfs[c][muscle_name]['split_by'][0]))\n",
    "                    # plt.close()\n",
    "                    picos, _ = find_peaks(S1)\n",
    "                    freq_peaks = f1[picos]\n",
    "                    ax.plot(f1, S1, label=str(dfs[c][muscle_name]['split_by'][0]))\n",
    "                    ax.plot(f1[picos], S1[picos], \"x\", markersize=10, label=\"Picos\")\n",
    "                    ax.set(title= 'SUBJECT 0' + str(subject) + '. ' + muscle_name + '. Ws = ' + str(256), xlabel = 'frequency [Hz]', ylabel = 'PSD (dB)')\n",
    "                    ax.legend()\n",
    "                    ax.axvline(x=50, color='r', linestyle='--')\n",
    "                    ax.set_xlim(0,500)\n",
    "                    \n",
    "                    \n",
    "                    \n"
   ],
   "metadata": {
    "collapsed": false
   },
   "id": "f9456889d857c20d"
  },
  {
   "cell_type": "code",
   "execution_count": null,
   "outputs": [],
   "source": [],
   "metadata": {
    "collapsed": false
   },
   "id": "1e232d2b699170ba"
  }
 ],
 "metadata": {
  "kernelspec": {
   "display_name": "Python 3",
   "language": "python",
   "name": "python3"
  },
  "language_info": {
   "codemirror_mode": {
    "name": "ipython",
    "version": 2
   },
   "file_extension": ".py",
   "mimetype": "text/x-python",
   "name": "python",
   "nbconvert_exporter": "python",
   "pygments_lexer": "ipython2",
   "version": "2.7.6"
  }
 },
 "nbformat": 4,
 "nbformat_minor": 5
}
